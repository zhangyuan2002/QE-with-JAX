{
 "cells": [
  {
   "cell_type": "code",
   "execution_count": 1,
   "id": "2515f5f1-2efa-40eb-959b-fc6a5396d8b0",
   "metadata": {},
   "outputs": [],
   "source": [
    "import jax\n",
    "import jax.numpy as jnp\n",
    "from scipy.optimize import root\n",
    "import matplotlib.pyplot as plt"
   ]
  },
  {
   "cell_type": "code",
   "execution_count": 2,
   "id": "f9c3d07d-2d03-4950-a3b2-21d7e98ce736",
   "metadata": {},
   "outputs": [],
   "source": [
    "def newton(f, x_0, tol=1e-5):\n",
    "    f_prime = jax.grad(f)\n",
    "    def q(x):\n",
    "        return x - f(x) / f_prime(x)\n",
    "\n",
    "    error = tol + 1\n",
    "    x = x_0\n",
    "    while error > tol:\n",
    "        y = q(x)\n",
    "        error = abs(x - y)\n",
    "        x = y\n",
    "        \n",
    "    return x"
   ]
  },
  {
   "cell_type": "code",
   "execution_count": 3,
   "id": "eec3fe88-2c9f-4a67-8afe-f2181ff97273",
   "metadata": {},
   "outputs": [
    {
     "data": {
      "image/png": "[encoded data removed]",
      "text/plain": [
       "<Figure size 640x480 with 1 Axes>"
      ]
     },
     "metadata": {},
     "output_type": "display_data"
    }
   ],
   "source": [
    "f = lambda x: jnp.sin(4 * (x - 1/4)) + x + x**20 - 1\n",
    "x = jnp.linspace(0, 1, 100)\n",
    "\n",
    "fig, ax = plt.subplots()\n",
    "ax.plot(x, f(x), label='$f(x)$')\n",
    "ax.axhline(ls='--', c='k')\n",
    "ax.set_xlabel('$x$', fontsize=12)\n",
    "ax.set_ylabel('$f(x)$', fontsize=12)\n",
    "ax.legend(fontsize=12)\n",
    "plt.show()"
   ]
  },
  {
   "cell_type": "code",
   "execution_count": 4,
   "id": "1f1a774f-086a-4de1-9109-67f1911ce5a8",
   "metadata": {},
   "outputs": [
    {
     "data": {
      "text/plain": [
       "Array(0.4082935, dtype=float32, weak_type=True)"
      ]
     },
     "execution_count": 4,
     "metadata": {},
     "output_type": "execute_result"
    }
   ],
   "source": [
    "newton(f, 0.2)"
   ]
  },
  {
   "cell_type": "code",
   "execution_count": 5,
   "id": "ac436051-e556-4bca-b762-a21540e1ccaf",
   "metadata": {},
   "outputs": [],
   "source": [
    "def e(p, A, b, c):\n",
    "    return jnp.exp(- A @ p) + c - b * jnp.sqrt(p)"
   ]
  },
  {
   "cell_type": "code",
   "execution_count": 9,
   "id": "7db7a72d-4c44-4e36-ae4a-ad468a278ffb",
   "metadata": {},
   "outputs": [],
   "source": [
    "def newton(f, x_0, tol=1e-5, max_iter=15):\n",
    "    \"\"\"\n",
    "    A multivariate Newton root-finding routine.\n",
    "\n",
    "    \"\"\"\n",
    "    x = x_0\n",
    "    f_jac = jax.jacobian(f)\n",
    "    @jax.jit\n",
    "    def q(x):\n",
    "        \" Updates the current guess. \"\n",
    "        return x - jnp.linalg.solve(f_jac(x), f(x))\n",
    "    error = tol + 1\n",
    "    n = 0\n",
    "    while error > tol:\n",
    "        n += 1\n",
    "        if(n > max_iter):\n",
    "            raise Exception('Max iteration reached without convergence')\n",
    "        y = q(x)\n",
    "        error = jnp.linalg.norm(x - y)\n",
    "        x = y\n",
    "        print(f'iteration {n}, error = {error}')\n",
    "    return x"
   ]
  },
  {
   "cell_type": "code",
   "execution_count": 10,
   "id": "f2043c3e-48c4-4ccb-b783-682eaef1bfe6",
   "metadata": {},
   "outputs": [
    {
     "name": "stderr",
     "output_type": "stream",
     "text": [
      "2024-09-25 23:49:11.726517: W external/tsl/tsl/framework/bfc_allocator.cc:485] Allocator (GPU_0_bfc) ran out of memory trying to allocate 95.37MiB (rounded to 100000000)requested by op \n",
      "2024-09-25 23:49:11.726578: W external/tsl/tsl/framework/bfc_allocator.cc:497] *___________________________________________________________________________________________________\n",
      "2024-09-25 23:49:11.726644: E external/xla/xla/pjrt/pjrt_stream_executor_client.cc:2461] Execution of replica 0 failed: RESOURCE_EXHAUSTED: Out of memory while trying to allocate 100000000 bytes.\n",
      "BufferAssignment OOM Debugging.\n",
      "BufferAssignment stats:\n",
      "             parameter allocation:        16B\n",
      "              constant allocation:         0B\n",
      "        maybe_live_out allocation:   95.37MiB\n",
      "     preallocated temp allocation:  238.42MiB\n",
      "  preallocated temp fragmentation:         0B (0.00%)\n",
      "                 total allocation:  333.79MiB\n",
      "              total fragmentation:   47.68MiB (14.29%)\n",
      "Peak buffers:\n",
      "\tBuffer 1:\n",
      "\t\tSize: 95.37MiB\n",
      "\t\tOperator: op_name=\"jit(_uniform)/jit(main)/max\" source_file=\"/tmp/ipykernel_10758/1285493232.py\" source_line=6\n",
      "\t\tXLA Label: fusion\n",
      "\t\tShape: f32[5000,5000]\n",
      "\t\t==========================\n",
      "\n",
      "\tBuffer 2:\n",
      "\t\tSize: 47.68MiB\n",
      "\t\tOperator: op_name=\"jit(_uniform)/jit(main)/threefry2x32\" source_file=\"/tmp/ipykernel_10758/1285493232.py\" source_line=6\n",
      "\t\tXLA Label: custom-call\n",
      "\t\tShape: u32[12500000]\n",
      "\t\t==========================\n",
      "\n",
      "\tBuffer 3:\n",
      "\t\tSize: 47.68MiB\n",
      "\t\tOperator: op_name=\"jit(_uniform)/jit(main)/threefry2x32\" source_file=\"/tmp/ipykernel_10758/1285493232.py\" source_line=6\n",
      "\t\tXLA Label: custom-call\n",
      "\t\tShape: u32[12500000]\n",
      "\t\t==========================\n",
      "\n",
      "\tBuffer 4:\n",
      "\t\tSize: 47.68MiB\n",
      "\t\tXLA Label: fusion\n",
      "\t\tShape: u32[12500000]\n",
      "\t\t==========================\n",
      "\n",
      "\tBuffer 5:\n",
      "\t\tSize: 47.68MiB\n",
      "\t\tXLA Label: fusion\n",
      "\t\tShape: u32[12500000]\n",
      "\t\t==========================\n",
      "\n",
      "\tBuffer 6:\n",
      "\t\tSize: 47.68MiB\n",
      "\t\tOperator: op_name=\"jit(_uniform)/jit(main)/threefry2x32\" source_file=\"/tmp/ipykernel_10758/1285493232.py\" source_line=6\n",
      "\t\tXLA Label: fusion\n",
      "\t\tShape: u32[12500000]\n",
      "\t\t==========================\n",
      "\n",
      "\tBuffer 7:\n",
      "\t\tSize: 16B\n",
      "\t\tOperator: op_name=\"jit(_uniform)/jit(main)/threefry2x32\" source_file=\"/tmp/ipykernel_10758/1285493232.py\" source_line=6\n",
      "\t\tXLA Label: fusion\n",
      "\t\tShape: (u32[12500000], u32[12500000])\n",
      "\t\t==========================\n",
      "\n",
      "\tBuffer 8:\n",
      "\t\tSize: 16B\n",
      "\t\tXLA Label: fusion\n",
      "\t\tShape: (u32[12500000], u32[12500000])\n",
      "\t\t==========================\n",
      "\n",
      "\tBuffer 9:\n",
      "\t\tSize: 16B\n",
      "\t\tOperator: op_name=\"jit(_uniform)/jit(main)/threefry2x32\" source_file=\"/tmp/ipykernel_10758/1285493232.py\" source_line=6\n",
      "\t\tXLA Label: custom-call\n",
      "\t\tShape: (u32[12500000], u32[12500000])\n",
      "\t\t==========================\n",
      "\n",
      "\tBuffer 10:\n",
      "\t\tSize: 8B\n",
      "\t\tEntry Parameter Subshape: u32[2]\n",
      "\t\t==========================\n",
      "\n",
      "\tBuffer 11:\n",
      "\t\tSize: 4B\n",
      "\t\tOperator: op_name=\"jit(_uniform)/jit(main)/broadcast_in_dim[shape=(1, 1) broadcast_dimensions=()]\" source_file=\"/tmp/ipykernel_10758/1285493232.py\" source_line=6\n",
      "\t\tEntry Parameter Subshape: f32[]\n",
      "\t\t==========================\n",
      "\n",
      "\tBuffer 12:\n",
      "\t\tSize: 4B\n",
      "\t\tOperator: op_name=\"jit(_uniform)/jit(main)/broadcast_in_dim[shape=(1, 1) broadcast_dimensions=()]\" source_file=\"/tmp/ipykernel_10758/1285493232.py\" source_line=6\n",
      "\t\tEntry Parameter Subshape: f32[]\n",
      "\t\t==========================\n",
      "\n",
      "\n"
     ]
    },
    {
     "ename": "XlaRuntimeError",
     "evalue": "RESOURCE_EXHAUSTED: Out of memory while trying to allocate 100000000 bytes.\nBufferAssignment OOM Debugging.\nBufferAssignment stats:\n             parameter allocation:        16B\n              constant allocation:         0B\n        maybe_live_out allocation:   95.37MiB\n     preallocated temp allocation:  238.42MiB\n  preallocated temp fragmentation:         0B (0.00%)\n                 total allocation:  333.79MiB\n              total fragmentation:   47.68MiB (14.29%)\nPeak buffers:\n\tBuffer 1:\n\t\tSize: 95.37MiB\n\t\tOperator: op_name=\"jit(_uniform)/jit(main)/max\" source_file=\"/tmp/ipykernel_10758/1285493232.py\" source_line=6\n\t\tXLA Label: fusion\n\t\tShape: f32[5000,5000]\n\t\t==========================\n\n\tBuffer 2:\n\t\tSize: 47.68MiB\n\t\tOperator: op_name=\"jit(_uniform)/jit(main)/threefry2x32\" source_file=\"/tmp/ipykernel_10758/1285493232.py\" source_line=6\n\t\tXLA Label: custom-call\n\t\tShape: u32[12500000]\n\t\t==========================\n\n\tBuffer 3:\n\t\tSize: 47.68MiB\n\t\tOperator: op_name=\"jit(_uniform)/jit(main)/threefry2x32\" source_file=\"/tmp/ipykernel_10758/1285493232.py\" source_line=6\n\t\tXLA Label: custom-call\n\t\tShape: u32[12500000]\n\t\t==========================\n\n\tBuffer 4:\n\t\tSize: 47.68MiB\n\t\tXLA Label: fusion\n\t\tShape: u32[12500000]\n\t\t==========================\n\n\tBuffer 5:\n\t\tSize: 47.68MiB\n\t\tXLA Label: fusion\n\t\tShape: u32[12500000]\n\t\t==========================\n\n\tBuffer 6:\n\t\tSize: 47.68MiB\n\t\tOperator: op_name=\"jit(_uniform)/jit(main)/threefry2x32\" source_file=\"/tmp/ipykernel_10758/1285493232.py\" source_line=6\n\t\tXLA Label: fusion\n\t\tShape: u32[12500000]\n\t\t==========================\n\n\tBuffer 7:\n\t\tSize: 16B\n\t\tOperator: op_name=\"jit(_uniform)/jit(main)/threefry2x32\" source_file=\"/tmp/ipykernel_10758/1285493232.py\" source_line=6\n\t\tXLA Label: fusion\n\t\tShape: (u32[12500000], u32[12500000])\n\t\t==========================\n\n\tBuffer 8:\n\t\tSize: 16B\n\t\tXLA Label: fusion\n\t\tShape: (u32[12500000], u32[12500000])\n\t\t==========================\n\n\tBuffer 9:\n\t\tSize: 16B\n\t\tOperator: op_name=\"jit(_uniform)/jit(main)/threefry2x32\" source_file=\"/tmp/ipykernel_10758/1285493232.py\" source_line=6\n\t\tXLA Label: custom-call\n\t\tShape: (u32[12500000], u32[12500000])\n\t\t==========================\n\n\tBuffer 10:\n\t\tSize: 8B\n\t\tEntry Parameter Subshape: u32[2]\n\t\t==========================\n\n\tBuffer 11:\n\t\tSize: 4B\n\t\tOperator: op_name=\"jit(_uniform)/jit(main)/broadcast_in_dim[shape=(1, 1) broadcast_dimensions=()]\" source_file=\"/tmp/ipykernel_10758/1285493232.py\" source_line=6\n\t\tEntry Parameter Subshape: f32[]\n\t\t==========================\n\n\tBuffer 12:\n\t\tSize: 4B\n\t\tOperator: op_name=\"jit(_uniform)/jit(main)/broadcast_in_dim[shape=(1, 1) broadcast_dimensions=()]\" source_file=\"/tmp/ipykernel_10758/1285493232.py\" source_line=6\n\t\tEntry Parameter Subshape: f32[]\n\t\t==========================\n\n",
     "output_type": "error",
     "traceback": [
      "\u001b[0;31m---------------------------------------------------------------------------\u001b[0m",
      "\u001b[0;31mXlaRuntimeError\u001b[0m                           Traceback (most recent call last)",
      "Cell \u001b[0;32mIn[10], line 6\u001b[0m\n\u001b[1;32m      4\u001b[0m \u001b[38;5;66;03m# Create a random matrix A and normalize the rows to sum to one\u001b[39;00m\n\u001b[1;32m      5\u001b[0m key \u001b[38;5;241m=\u001b[39m jax\u001b[38;5;241m.\u001b[39mrandom\u001b[38;5;241m.\u001b[39mPRNGKey(seed)\n\u001b[0;32m----> 6\u001b[0m A \u001b[38;5;241m=\u001b[39m \u001b[43mjax\u001b[49m\u001b[38;5;241;43m.\u001b[39;49m\u001b[43mrandom\u001b[49m\u001b[38;5;241;43m.\u001b[39;49m\u001b[43muniform\u001b[49m\u001b[43m(\u001b[49m\u001b[43mkey\u001b[49m\u001b[43m,\u001b[49m\u001b[43m \u001b[49m\u001b[43m[\u001b[49m\u001b[43mdim\u001b[49m\u001b[43m,\u001b[49m\u001b[43m \u001b[49m\u001b[43mdim\u001b[49m\u001b[43m]\u001b[49m\u001b[43m)\u001b[49m\n\u001b[1;32m      7\u001b[0m s \u001b[38;5;241m=\u001b[39m jnp\u001b[38;5;241m.\u001b[39msum(A, axis\u001b[38;5;241m=\u001b[39m\u001b[38;5;241m0\u001b[39m)\n\u001b[1;32m      8\u001b[0m A \u001b[38;5;241m=\u001b[39m A \u001b[38;5;241m/\u001b[39m s\n",
      "File \u001b[0;32m~/anaconda3/envs/lnx_py310/lib/python3.10/site-packages/jax/_src/random.py:321\u001b[0m, in \u001b[0;36muniform\u001b[0;34m(key, shape, dtype, minval, maxval)\u001b[0m\n\u001b[1;32m    319\u001b[0m dtype \u001b[38;5;241m=\u001b[39m dtypes\u001b[38;5;241m.\u001b[39mcanonicalize_dtype(dtype)\n\u001b[1;32m    320\u001b[0m shape \u001b[38;5;241m=\u001b[39m core\u001b[38;5;241m.\u001b[39mas_named_shape(shape)\n\u001b[0;32m--> 321\u001b[0m \u001b[38;5;28;01mreturn\u001b[39;00m \u001b[43m_uniform\u001b[49m\u001b[43m(\u001b[49m\u001b[43mkey\u001b[49m\u001b[43m,\u001b[49m\u001b[43m \u001b[49m\u001b[43mshape\u001b[49m\u001b[43m,\u001b[49m\u001b[43m \u001b[49m\u001b[43mdtype\u001b[49m\u001b[43m,\u001b[49m\u001b[43m \u001b[49m\u001b[43mminval\u001b[49m\u001b[43m,\u001b[49m\u001b[43m \u001b[49m\u001b[43mmaxval\u001b[49m\u001b[43m)\u001b[49m\n",
      "    \u001b[0;31m[... skipping hidden 10 frame]\u001b[0m\n",
      "File \u001b[0;32m~/anaconda3/envs/lnx_py310/lib/python3.10/site-packages/jax/_src/interpreters/pxla.py:1349\u001b[0m, in \u001b[0;36mExecuteReplicated.__call__\u001b[0;34m(self, *args)\u001b[0m\n\u001b[1;32m   1344\u001b[0m   \u001b[38;5;28mself\u001b[39m\u001b[38;5;241m.\u001b[39m_handle_token_bufs(\n\u001b[1;32m   1345\u001b[0m       results\u001b[38;5;241m.\u001b[39mdisassemble_prefix_into_single_device_arrays(\n\u001b[1;32m   1346\u001b[0m           \u001b[38;5;28mlen\u001b[39m(\u001b[38;5;28mself\u001b[39m\u001b[38;5;241m.\u001b[39mordered_effects)),\n\u001b[1;32m   1347\u001b[0m       results\u001b[38;5;241m.\u001b[39mconsume_token())\n\u001b[1;32m   1348\u001b[0m \u001b[38;5;28;01melse\u001b[39;00m:\n\u001b[0;32m-> 1349\u001b[0m   results \u001b[38;5;241m=\u001b[39m \u001b[38;5;28;43mself\u001b[39;49m\u001b[38;5;241;43m.\u001b[39;49m\u001b[43mxla_executable\u001b[49m\u001b[38;5;241;43m.\u001b[39;49m\u001b[43mexecute_sharded\u001b[49m\u001b[43m(\u001b[49m\u001b[43minput_bufs\u001b[49m\u001b[43m)\u001b[49m\n\u001b[1;32m   1350\u001b[0m \u001b[38;5;28;01mif\u001b[39;00m dispatch\u001b[38;5;241m.\u001b[39mneeds_check_special():\n\u001b[1;32m   1351\u001b[0m   out_arrays \u001b[38;5;241m=\u001b[39m results\u001b[38;5;241m.\u001b[39mdisassemble_into_single_device_arrays()\n",
      "\u001b[0;31mXlaRuntimeError\u001b[0m: RESOURCE_EXHAUSTED: Out of memory while trying to allocate 100000000 bytes.\nBufferAssignment OOM Debugging.\nBufferAssignment stats:\n             parameter allocation:        16B\n              constant allocation:         0B\n        maybe_live_out allocation:   95.37MiB\n     preallocated temp allocation:  238.42MiB\n  preallocated temp fragmentation:         0B (0.00%)\n                 total allocation:  333.79MiB\n              total fragmentation:   47.68MiB (14.29%)\nPeak buffers:\n\tBuffer 1:\n\t\tSize: 95.37MiB\n\t\tOperator: op_name=\"jit(_uniform)/jit(main)/max\" source_file=\"/tmp/ipykernel_10758/1285493232.py\" source_line=6\n\t\tXLA Label: fusion\n\t\tShape: f32[5000,5000]\n\t\t==========================\n\n\tBuffer 2:\n\t\tSize: 47.68MiB\n\t\tOperator: op_name=\"jit(_uniform)/jit(main)/threefry2x32\" source_file=\"/tmp/ipykernel_10758/1285493232.py\" source_line=6\n\t\tXLA Label: custom-call\n\t\tShape: u32[12500000]\n\t\t==========================\n\n\tBuffer 3:\n\t\tSize: 47.68MiB\n\t\tOperator: op_name=\"jit(_uniform)/jit(main)/threefry2x32\" source_file=\"/tmp/ipykernel_10758/1285493232.py\" source_line=6\n\t\tXLA Label: custom-call\n\t\tShape: u32[12500000]\n\t\t==========================\n\n\tBuffer 4:\n\t\tSize: 47.68MiB\n\t\tXLA Label: fusion\n\t\tShape: u32[12500000]\n\t\t==========================\n\n\tBuffer 5:\n\t\tSize: 47.68MiB\n\t\tXLA Label: fusion\n\t\tShape: u32[12500000]\n\t\t==========================\n\n\tBuffer 6:\n\t\tSize: 47.68MiB\n\t\tOperator: op_name=\"jit(_uniform)/jit(main)/threefry2x32\" source_file=\"/tmp/ipykernel_10758/1285493232.py\" source_line=6\n\t\tXLA Label: fusion\n\t\tShape: u32[12500000]\n\t\t==========================\n\n\tBuffer 7:\n\t\tSize: 16B\n\t\tOperator: op_name=\"jit(_uniform)/jit(main)/threefry2x32\" source_file=\"/tmp/ipykernel_10758/1285493232.py\" source_line=6\n\t\tXLA Label: fusion\n\t\tShape: (u32[12500000], u32[12500000])\n\t\t==========================\n\n\tBuffer 8:\n\t\tSize: 16B\n\t\tXLA Label: fusion\n\t\tShape: (u32[12500000], u32[12500000])\n\t\t==========================\n\n\tBuffer 9:\n\t\tSize: 16B\n\t\tOperator: op_name=\"jit(_uniform)/jit(main)/threefry2x32\" source_file=\"/tmp/ipykernel_10758/1285493232.py\" source_line=6\n\t\tXLA Label: custom-call\n\t\tShape: (u32[12500000], u32[12500000])\n\t\t==========================\n\n\tBuffer 10:\n\t\tSize: 8B\n\t\tEntry Parameter Subshape: u32[2]\n\t\t==========================\n\n\tBuffer 11:\n\t\tSize: 4B\n\t\tOperator: op_name=\"jit(_uniform)/jit(main)/broadcast_in_dim[shape=(1, 1) broadcast_dimensions=()]\" source_file=\"/tmp/ipykernel_10758/1285493232.py\" source_line=6\n\t\tEntry Parameter Subshape: f32[]\n\t\t==========================\n\n\tBuffer 12:\n\t\tSize: 4B\n\t\tOperator: op_name=\"jit(_uniform)/jit(main)/broadcast_in_dim[shape=(1, 1) broadcast_dimensions=()]\" source_file=\"/tmp/ipykernel_10758/1285493232.py\" source_line=6\n\t\tEntry Parameter Subshape: f32[]\n\t\t==========================\n\n"
     ]
    }
   ],
   "source": [
    "dim = 5_000\n",
    "seed = 32\n",
    "\n",
    "# Create a random matrix A and normalize the rows to sum to one\n",
    "key = jax.random.PRNGKey(seed)\n",
    "A = jax.random.uniform(key, [dim, dim])\n",
    "s = jnp.sum(A, axis=0)\n",
    "A = A / s\n",
    "\n",
    "# Set up b and c\n",
    "b = jnp.ones(dim)\n",
    "c = jnp.ones(dim)"
   ]
  },
  {
   "cell_type": "code",
   "execution_count": 11,
   "id": "8dd3f64d-6001-49b0-bdff-c813c069cbf9",
   "metadata": {},
   "outputs": [],
   "source": [
    "init_p = jnp.ones(dim)"
   ]
  },
  {
   "cell_type": "code",
   "execution_count": 12,
   "id": "8f731132-363c-4e4d-8dc5-9f72e2ea4343",
   "metadata": {},
   "outputs": [
    {
     "ename": "NameError",
     "evalue": "name 'A' is not defined",
     "output_type": "error",
     "traceback": [
      "\u001b[0;31m---------------------------------------------------------------------------\u001b[0m",
      "\u001b[0;31mNameError\u001b[0m                                 Traceback (most recent call last)",
      "File \u001b[0;32m<timed exec>:1\u001b[0m\n",
      "Cell \u001b[0;32mIn[9], line 18\u001b[0m, in \u001b[0;36mnewton\u001b[0;34m(f, x_0, tol, max_iter)\u001b[0m\n\u001b[1;32m     16\u001b[0m \u001b[38;5;28;01mif\u001b[39;00m(n \u001b[38;5;241m>\u001b[39m max_iter):\n\u001b[1;32m     17\u001b[0m     \u001b[38;5;28;01mraise\u001b[39;00m \u001b[38;5;167;01mException\u001b[39;00m(\u001b[38;5;124m'\u001b[39m\u001b[38;5;124mMax iteration reached without convergence\u001b[39m\u001b[38;5;124m'\u001b[39m)\n\u001b[0;32m---> 18\u001b[0m y \u001b[38;5;241m=\u001b[39m \u001b[43mq\u001b[49m\u001b[43m(\u001b[49m\u001b[43mx\u001b[49m\u001b[43m)\u001b[49m\n\u001b[1;32m     19\u001b[0m error \u001b[38;5;241m=\u001b[39m jnp\u001b[38;5;241m.\u001b[39mlinalg\u001b[38;5;241m.\u001b[39mnorm(x \u001b[38;5;241m-\u001b[39m y)\n\u001b[1;32m     20\u001b[0m x \u001b[38;5;241m=\u001b[39m y\n",
      "    \u001b[0;31m[... skipping hidden 12 frame]\u001b[0m\n",
      "Cell \u001b[0;32mIn[9], line 11\u001b[0m, in \u001b[0;36mnewton.<locals>.q\u001b[0;34m(x)\u001b[0m\n\u001b[1;32m      8\u001b[0m \u001b[38;5;129m@jax\u001b[39m\u001b[38;5;241m.\u001b[39mjit\n\u001b[1;32m      9\u001b[0m \u001b[38;5;28;01mdef\u001b[39;00m \u001b[38;5;21mq\u001b[39m(x):\n\u001b[1;32m     10\u001b[0m     \u001b[38;5;124m\"\u001b[39m\u001b[38;5;124m Updates the current guess. \u001b[39m\u001b[38;5;124m\"\u001b[39m\n\u001b[0;32m---> 11\u001b[0m     \u001b[38;5;28;01mreturn\u001b[39;00m x \u001b[38;5;241m-\u001b[39m jnp\u001b[38;5;241m.\u001b[39mlinalg\u001b[38;5;241m.\u001b[39msolve(\u001b[43mf_jac\u001b[49m\u001b[43m(\u001b[49m\u001b[43mx\u001b[49m\u001b[43m)\u001b[49m, f(x))\n",
      "    \u001b[0;31m[... skipping hidden 7 frame]\u001b[0m\n",
      "File \u001b[0;32m<timed exec>:1\u001b[0m, in \u001b[0;36m<lambda>\u001b[0;34m(p)\u001b[0m\n",
      "\u001b[0;31mNameError\u001b[0m: name 'A' is not defined"
     ]
    }
   ],
   "source": [
    "%%time\n",
    "p = newton(lambda p: e(p, A, b, c), init_p).block_until_ready()"
   ]
  },
  {
   "cell_type": "code",
   "execution_count": 13,
   "id": "6559751c-2c1c-4c93-a859-03053e537c7b",
   "metadata": {},
   "outputs": [
    {
     "ename": "NameError",
     "evalue": "name 'A' is not defined",
     "output_type": "error",
     "traceback": [
      "\u001b[0;31m---------------------------------------------------------------------------\u001b[0m",
      "\u001b[0;31mNameError\u001b[0m                                 Traceback (most recent call last)",
      "File \u001b[0;32m<timed exec>:1\u001b[0m\n",
      "Cell \u001b[0;32mIn[9], line 18\u001b[0m, in \u001b[0;36mnewton\u001b[0;34m(f, x_0, tol, max_iter)\u001b[0m\n\u001b[1;32m     16\u001b[0m \u001b[38;5;28;01mif\u001b[39;00m(n \u001b[38;5;241m>\u001b[39m max_iter):\n\u001b[1;32m     17\u001b[0m     \u001b[38;5;28;01mraise\u001b[39;00m \u001b[38;5;167;01mException\u001b[39;00m(\u001b[38;5;124m'\u001b[39m\u001b[38;5;124mMax iteration reached without convergence\u001b[39m\u001b[38;5;124m'\u001b[39m)\n\u001b[0;32m---> 18\u001b[0m y \u001b[38;5;241m=\u001b[39m \u001b[43mq\u001b[49m\u001b[43m(\u001b[49m\u001b[43mx\u001b[49m\u001b[43m)\u001b[49m\n\u001b[1;32m     19\u001b[0m error \u001b[38;5;241m=\u001b[39m jnp\u001b[38;5;241m.\u001b[39mlinalg\u001b[38;5;241m.\u001b[39mnorm(x \u001b[38;5;241m-\u001b[39m y)\n\u001b[1;32m     20\u001b[0m x \u001b[38;5;241m=\u001b[39m y\n",
      "    \u001b[0;31m[... skipping hidden 12 frame]\u001b[0m\n",
      "Cell \u001b[0;32mIn[9], line 11\u001b[0m, in \u001b[0;36mnewton.<locals>.q\u001b[0;34m(x)\u001b[0m\n\u001b[1;32m      8\u001b[0m \u001b[38;5;129m@jax\u001b[39m\u001b[38;5;241m.\u001b[39mjit\n\u001b[1;32m      9\u001b[0m \u001b[38;5;28;01mdef\u001b[39;00m \u001b[38;5;21mq\u001b[39m(x):\n\u001b[1;32m     10\u001b[0m     \u001b[38;5;124m\"\u001b[39m\u001b[38;5;124m Updates the current guess. \u001b[39m\u001b[38;5;124m\"\u001b[39m\n\u001b[0;32m---> 11\u001b[0m     \u001b[38;5;28;01mreturn\u001b[39;00m x \u001b[38;5;241m-\u001b[39m jnp\u001b[38;5;241m.\u001b[39mlinalg\u001b[38;5;241m.\u001b[39msolve(\u001b[43mf_jac\u001b[49m\u001b[43m(\u001b[49m\u001b[43mx\u001b[49m\u001b[43m)\u001b[49m, f(x))\n",
      "    \u001b[0;31m[... skipping hidden 7 frame]\u001b[0m\n",
      "File \u001b[0;32m<timed exec>:1\u001b[0m, in \u001b[0;36m<lambda>\u001b[0;34m(p)\u001b[0m\n",
      "\u001b[0;31mNameError\u001b[0m: name 'A' is not defined"
     ]
    }
   ],
   "source": [
    "%%time\n",
    "p = newton(lambda p: e(p, A, b, c), init_p).block_until_ready()"
   ]
  },
  {
   "cell_type": "code",
   "execution_count": 14,
   "id": "674474df-c744-4894-a672-a4f2acc1314d",
   "metadata": {},
   "outputs": [
    {
     "ename": "NameError",
     "evalue": "name 'A' is not defined",
     "output_type": "error",
     "traceback": [
      "\u001b[0;31m---------------------------------------------------------------------------\u001b[0m",
      "\u001b[0;31mNameError\u001b[0m                                 Traceback (most recent call last)",
      "File \u001b[0;32m<timed exec>:1\u001b[0m\n",
      "Cell \u001b[0;32mIn[9], line 18\u001b[0m, in \u001b[0;36mnewton\u001b[0;34m(f, x_0, tol, max_iter)\u001b[0m\n\u001b[1;32m     16\u001b[0m \u001b[38;5;28;01mif\u001b[39;00m(n \u001b[38;5;241m>\u001b[39m max_iter):\n\u001b[1;32m     17\u001b[0m     \u001b[38;5;28;01mraise\u001b[39;00m \u001b[38;5;167;01mException\u001b[39;00m(\u001b[38;5;124m'\u001b[39m\u001b[38;5;124mMax iteration reached without convergence\u001b[39m\u001b[38;5;124m'\u001b[39m)\n\u001b[0;32m---> 18\u001b[0m y \u001b[38;5;241m=\u001b[39m \u001b[43mq\u001b[49m\u001b[43m(\u001b[49m\u001b[43mx\u001b[49m\u001b[43m)\u001b[49m\n\u001b[1;32m     19\u001b[0m error \u001b[38;5;241m=\u001b[39m jnp\u001b[38;5;241m.\u001b[39mlinalg\u001b[38;5;241m.\u001b[39mnorm(x \u001b[38;5;241m-\u001b[39m y)\n\u001b[1;32m     20\u001b[0m x \u001b[38;5;241m=\u001b[39m y\n",
      "    \u001b[0;31m[... skipping hidden 12 frame]\u001b[0m\n",
      "Cell \u001b[0;32mIn[9], line 11\u001b[0m, in \u001b[0;36mnewton.<locals>.q\u001b[0;34m(x)\u001b[0m\n\u001b[1;32m      8\u001b[0m \u001b[38;5;129m@jax\u001b[39m\u001b[38;5;241m.\u001b[39mjit\n\u001b[1;32m      9\u001b[0m \u001b[38;5;28;01mdef\u001b[39;00m \u001b[38;5;21mq\u001b[39m(x):\n\u001b[1;32m     10\u001b[0m     \u001b[38;5;124m\"\u001b[39m\u001b[38;5;124m Updates the current guess. \u001b[39m\u001b[38;5;124m\"\u001b[39m\n\u001b[0;32m---> 11\u001b[0m     \u001b[38;5;28;01mreturn\u001b[39;00m x \u001b[38;5;241m-\u001b[39m jnp\u001b[38;5;241m.\u001b[39mlinalg\u001b[38;5;241m.\u001b[39msolve(\u001b[43mf_jac\u001b[49m\u001b[43m(\u001b[49m\u001b[43mx\u001b[49m\u001b[43m)\u001b[49m, f(x))\n",
      "    \u001b[0;31m[... skipping hidden 7 frame]\u001b[0m\n",
      "File \u001b[0;32m<timed exec>:1\u001b[0m, in \u001b[0;36m<lambda>\u001b[0;34m(p)\u001b[0m\n",
      "\u001b[0;31mNameError\u001b[0m: name 'A' is not defined"
     ]
    }
   ],
   "source": [
    "%%time\n",
    "p = newton(lambda p: e(p, A, b, c), init_p).block_until_ready()"
   ]
  },
  {
   "cell_type": "code",
   "execution_count": 15,
   "id": "6de0e030-79a6-41ba-83b9-66ed794d471f",
   "metadata": {},
   "outputs": [
    {
     "ename": "NameError",
     "evalue": "name 'p' is not defined",
     "output_type": "error",
     "traceback": [
      "\u001b[0;31m---------------------------------------------------------------------------\u001b[0m",
      "\u001b[0;31mNameError\u001b[0m                                 Traceback (most recent call last)",
      "Cell \u001b[0;32mIn[15], line 1\u001b[0m\n\u001b[0;32m----> 1\u001b[0m jnp\u001b[38;5;241m.\u001b[39mmax(jnp\u001b[38;5;241m.\u001b[39mabs(e(\u001b[43mp\u001b[49m, A, b, c)))\n",
      "\u001b[0;31mNameError\u001b[0m: name 'p' is not defined"
     ]
    }
   ],
   "source": [
    "jnp.max(jnp.abs(e(p, A, b, c)))"
   ]
  },
  {
   "cell_type": "code",
   "execution_count": 16,
   "id": "10e86bf6-ab6d-4e2f-840b-9f775627ca82",
   "metadata": {},
   "outputs": [
    {
     "ename": "NameError",
     "evalue": "name 'A' is not defined",
     "output_type": "error",
     "traceback": [
      "\u001b[0;31m---------------------------------------------------------------------------\u001b[0m",
      "\u001b[0;31mNameError\u001b[0m                                 Traceback (most recent call last)",
      "File \u001b[0;32m<timed exec>:1\u001b[0m\n",
      "File \u001b[0;32m~/anaconda3/envs/lnx_py310/lib/python3.10/site-packages/scipy/optimize/_root.py:246\u001b[0m, in \u001b[0;36mroot\u001b[0;34m(fun, x0, args, method, jac, tol, callback, options)\u001b[0m\n\u001b[1;32m    243\u001b[0m         options\u001b[38;5;241m.\u001b[39msetdefault(\u001b[38;5;124m'\u001b[39m\u001b[38;5;124mfatol\u001b[39m\u001b[38;5;124m'\u001b[39m, np\u001b[38;5;241m.\u001b[39minf)\n\u001b[1;32m    245\u001b[0m \u001b[38;5;28;01mif\u001b[39;00m meth \u001b[38;5;241m==\u001b[39m \u001b[38;5;124m'\u001b[39m\u001b[38;5;124mhybr\u001b[39m\u001b[38;5;124m'\u001b[39m:\n\u001b[0;32m--> 246\u001b[0m     sol \u001b[38;5;241m=\u001b[39m \u001b[43m_root_hybr\u001b[49m\u001b[43m(\u001b[49m\u001b[43m_wrapped_fun\u001b[49m\u001b[43m,\u001b[49m\u001b[43m \u001b[49m\u001b[43mx0\u001b[49m\u001b[43m,\u001b[49m\u001b[43m \u001b[49m\u001b[43margs\u001b[49m\u001b[38;5;241;43m=\u001b[39;49m\u001b[43margs\u001b[49m\u001b[43m,\u001b[49m\u001b[43m \u001b[49m\u001b[43mjac\u001b[49m\u001b[38;5;241;43m=\u001b[39;49m\u001b[43mjac\u001b[49m\u001b[43m,\u001b[49m\u001b[43m \u001b[49m\u001b[38;5;241;43m*\u001b[39;49m\u001b[38;5;241;43m*\u001b[39;49m\u001b[43moptions\u001b[49m\u001b[43m)\u001b[49m\n\u001b[1;32m    247\u001b[0m \u001b[38;5;28;01melif\u001b[39;00m meth \u001b[38;5;241m==\u001b[39m \u001b[38;5;124m'\u001b[39m\u001b[38;5;124mlm\u001b[39m\u001b[38;5;124m'\u001b[39m:\n\u001b[1;32m    248\u001b[0m     sol \u001b[38;5;241m=\u001b[39m _root_leastsq(_wrapped_fun, x0, args\u001b[38;5;241m=\u001b[39margs, jac\u001b[38;5;241m=\u001b[39mjac, \u001b[38;5;241m*\u001b[39m\u001b[38;5;241m*\u001b[39moptions)\n",
      "File \u001b[0;32m~/anaconda3/envs/lnx_py310/lib/python3.10/site-packages/scipy/optimize/_minpack_py.py:238\u001b[0m, in \u001b[0;36m_root_hybr\u001b[0;34m(func, x0, args, jac, col_deriv, xtol, maxfev, band, eps, factor, diag, **unknown_options)\u001b[0m\n\u001b[1;32m    236\u001b[0m \u001b[38;5;28;01mif\u001b[39;00m \u001b[38;5;129;01mnot\u001b[39;00m \u001b[38;5;28misinstance\u001b[39m(args, \u001b[38;5;28mtuple\u001b[39m):\n\u001b[1;32m    237\u001b[0m     args \u001b[38;5;241m=\u001b[39m (args,)\n\u001b[0;32m--> 238\u001b[0m shape, dtype \u001b[38;5;241m=\u001b[39m \u001b[43m_check_func\u001b[49m\u001b[43m(\u001b[49m\u001b[38;5;124;43m'\u001b[39;49m\u001b[38;5;124;43mfsolve\u001b[39;49m\u001b[38;5;124;43m'\u001b[39;49m\u001b[43m,\u001b[49m\u001b[43m \u001b[49m\u001b[38;5;124;43m'\u001b[39;49m\u001b[38;5;124;43mfunc\u001b[39;49m\u001b[38;5;124;43m'\u001b[39;49m\u001b[43m,\u001b[49m\u001b[43m \u001b[49m\u001b[43mfunc\u001b[49m\u001b[43m,\u001b[49m\u001b[43m \u001b[49m\u001b[43mx0\u001b[49m\u001b[43m,\u001b[49m\u001b[43m \u001b[49m\u001b[43margs\u001b[49m\u001b[43m,\u001b[49m\u001b[43m \u001b[49m\u001b[43mn\u001b[49m\u001b[43m,\u001b[49m\u001b[43m \u001b[49m\u001b[43m(\u001b[49m\u001b[43mn\u001b[49m\u001b[43m,\u001b[49m\u001b[43m)\u001b[49m\u001b[43m)\u001b[49m\n\u001b[1;32m    239\u001b[0m \u001b[38;5;28;01mif\u001b[39;00m epsfcn \u001b[38;5;129;01mis\u001b[39;00m \u001b[38;5;28;01mNone\u001b[39;00m:\n\u001b[1;32m    240\u001b[0m     epsfcn \u001b[38;5;241m=\u001b[39m finfo(dtype)\u001b[38;5;241m.\u001b[39meps\n",
      "File \u001b[0;32m~/anaconda3/envs/lnx_py310/lib/python3.10/site-packages/scipy/optimize/_minpack_py.py:23\u001b[0m, in \u001b[0;36m_check_func\u001b[0;34m(checker, argname, thefunc, x0, args, numinputs, output_shape)\u001b[0m\n\u001b[1;32m     21\u001b[0m \u001b[38;5;28;01mdef\u001b[39;00m \u001b[38;5;21m_check_func\u001b[39m(checker, argname, thefunc, x0, args, numinputs,\n\u001b[1;32m     22\u001b[0m                 output_shape\u001b[38;5;241m=\u001b[39m\u001b[38;5;28;01mNone\u001b[39;00m):\n\u001b[0;32m---> 23\u001b[0m     res \u001b[38;5;241m=\u001b[39m atleast_1d(\u001b[43mthefunc\u001b[49m\u001b[43m(\u001b[49m\u001b[38;5;241;43m*\u001b[39;49m\u001b[43m(\u001b[49m\u001b[43m(\u001b[49m\u001b[43mx0\u001b[49m\u001b[43m[\u001b[49m\u001b[43m:\u001b[49m\u001b[43mnuminputs\u001b[49m\u001b[43m]\u001b[49m\u001b[43m,\u001b[49m\u001b[43m)\u001b[49m\u001b[43m \u001b[49m\u001b[38;5;241;43m+\u001b[39;49m\u001b[43m \u001b[49m\u001b[43margs\u001b[49m\u001b[43m)\u001b[49m\u001b[43m)\u001b[49m)\n\u001b[1;32m     24\u001b[0m     \u001b[38;5;28;01mif\u001b[39;00m (output_shape \u001b[38;5;129;01mis\u001b[39;00m \u001b[38;5;129;01mnot\u001b[39;00m \u001b[38;5;28;01mNone\u001b[39;00m) \u001b[38;5;129;01mand\u001b[39;00m (shape(res) \u001b[38;5;241m!=\u001b[39m output_shape):\n\u001b[1;32m     25\u001b[0m         \u001b[38;5;28;01mif\u001b[39;00m (output_shape[\u001b[38;5;241m0\u001b[39m] \u001b[38;5;241m!=\u001b[39m \u001b[38;5;241m1\u001b[39m):\n",
      "File \u001b[0;32m~/anaconda3/envs/lnx_py310/lib/python3.10/site-packages/scipy/optimize/_root.py:208\u001b[0m, in \u001b[0;36mroot.<locals>._wrapped_fun\u001b[0;34m(*fargs)\u001b[0m\n\u001b[1;32m    203\u001b[0m \u001b[38;5;250m\u001b[39m\u001b[38;5;124;03m\"\"\"\u001b[39;00m\n\u001b[1;32m    204\u001b[0m \u001b[38;5;124;03mWrapped `func` to track the number of times\u001b[39;00m\n\u001b[1;32m    205\u001b[0m \u001b[38;5;124;03mthe function has been called.\u001b[39;00m\n\u001b[1;32m    206\u001b[0m \u001b[38;5;124;03m\"\"\"\u001b[39;00m\n\u001b[1;32m    207\u001b[0m _wrapped_fun\u001b[38;5;241m.\u001b[39mnfev \u001b[38;5;241m+\u001b[39m\u001b[38;5;241m=\u001b[39m \u001b[38;5;241m1\u001b[39m\n\u001b[0;32m--> 208\u001b[0m \u001b[38;5;28;01mreturn\u001b[39;00m \u001b[43mfun\u001b[49m\u001b[43m(\u001b[49m\u001b[38;5;241;43m*\u001b[39;49m\u001b[43mfargs\u001b[49m\u001b[43m)\u001b[49m\n",
      "File \u001b[0;32m<timed exec>:1\u001b[0m, in \u001b[0;36m<lambda>\u001b[0;34m(p)\u001b[0m\n",
      "\u001b[0;31mNameError\u001b[0m: name 'A' is not defined"
     ]
    }
   ],
   "source": [
    "%%time\n",
    "solution = root(lambda p: e(p, A, b, c),\n",
    "                init_p,\n",
    "                jac=lambda p: jax.jacobian(e)(p, A, b, c),\n",
    "                method='hybr',\n",
    "                tol=1e-5)"
   ]
  },
  {
   "cell_type": "code",
   "execution_count": 17,
   "id": "c1e02fdb-882b-46b6-aeb2-31aa7ba6db20",
   "metadata": {},
   "outputs": [
    {
     "ename": "NameError",
     "evalue": "name 'solution' is not defined",
     "output_type": "error",
     "traceback": [
      "\u001b[0;31m---------------------------------------------------------------------------\u001b[0m",
      "\u001b[0;31mNameError\u001b[0m                                 Traceback (most recent call last)",
      "Cell \u001b[0;32mIn[17], line 1\u001b[0m\n\u001b[0;32m----> 1\u001b[0m p \u001b[38;5;241m=\u001b[39m \u001b[43msolution\u001b[49m\u001b[38;5;241m.\u001b[39mx\n\u001b[1;32m      2\u001b[0m jnp\u001b[38;5;241m.\u001b[39mmax(jnp\u001b[38;5;241m.\u001b[39mabs(e(p, A, b, c)))\n",
      "\u001b[0;31mNameError\u001b[0m: name 'solution' is not defined"
     ]
    }
   ],
   "source": [
    "p = solution.x\n",
    "jnp.max(jnp.abs(e(p, A, b, c)))"
   ]
  },
  {
   "cell_type": "code",
   "execution_count": null,
   "id": "3889831c-f0c6-4ec3-a22f-d03799babde5",
   "metadata": {},
   "outputs": [],
   "source": []
  }
 ],
 "metadata": {
  "kernelspec": {
   "display_name": "Python 3 (ipykernel)",
   "language": "python",
   "name": "python3"
  },
  "language_info": {
   "codemirror_mode": {
    "name": "ipython",
    "version": 3
   },
   "file_extension": ".py",
   "mimetype": "text/x-python",
   "name": "python",
   "nbconvert_exporter": "python",
   "pygments_lexer": "ipython3",
   "version": "3.10.14"
  }
 },
 "nbformat": 4,
 "nbformat_minor": 5
}
